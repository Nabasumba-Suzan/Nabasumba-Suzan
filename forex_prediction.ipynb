{
 "cells": [
  {
   "cell_type": "code",
   "execution_count": null,
   "id": "583470b4",
   "metadata": {
    "vscode": {
     "languageId": "plaintext"
    }
   },
   "outputs": [],
   "source": [
    "#Handle missing values\n",
    "numeric_cos = ['Open' ,'High' ,'Low' ,'Close' ,'Volume'  ,'Predicted_close' ,'Confidence']\n",
    "for col in numeric_cols:\n",
    "    if col in df.columns:\n",
    "        df[col] = pd.to_numeric[df[col] ,errors='coerce']\n",
    "\n"
   ]
  }
 ],
 "metadata": {
  "language_info": {
   "name": "python"
  }
 },
 "nbformat": 4,
 "nbformat_minor": 5
}
