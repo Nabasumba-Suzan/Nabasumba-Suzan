{
 "cells": [
  {
   "cell_type": "code",
   "execution_count": 3,
   "id": "26026fa0",
   "metadata": {},
   "outputs": [],
   "source": [
    "# Opening a file in read mode\n",
    "file = open(\"suzan.txt\", \"r\")"
   ]
  },
  {
   "cell_type": "code",
   "execution_count": null,
   "id": "c5f27bba",
   "metadata": {},
   "outputs": [
    {
     "name": "stdout",
     "output_type": "stream",
     "text": [
      "Hello welcome to the world of learning python\n",
      "\n"
     ]
    }
   ],
   "source": [
    "#Reading the content of the file\n",
    "content = file.read()\n",
    "# Printing the content\n",
    "print(content)\n",
    "# Closing the file\n",
    "file.close()"
   ]
  },
  {
   "cell_type": "code",
   "execution_count": 7,
   "id": "7e6f340b",
   "metadata": {},
   "outputs": [],
   "source": [
    "# Writing to a file\n",
    "with open(\"suzan.txt\", \"w\") as file: \n",
    "    # Writing a string to the file\n",
    "    file.write(\"Welcome to writing files first line.\\n\")"
   ]
  },
  {
   "cell_type": "code",
   "execution_count": 8,
   "id": "f0f6b341",
   "metadata": {},
   "outputs": [
    {
     "name": "stdout",
     "output_type": "stream",
     "text": [
      "Welcome to writing files first line.\n",
      "This is an appended line.\n",
      "\n"
     ]
    }
   ],
   "source": [
    "# Appending to a file\n",
    "with open(\"suzan.txt\", \"a\") as file: \n",
    "    # Appending a string to the file\n",
    "    file.write(\"This is an appended line.\\n\")\n",
    "# Reading the file again to see the changes\n",
    "with open(\"suzan.txt\", \"r\") as file:\n",
    "    # Reading the content of the file\n",
    "    content = file.read()\n",
    "    # Printing the content\n",
    "    print(content)"
   ]
  }
 ],
 "metadata": {
  "kernelspec": {
   "display_name": "Python 3",
   "language": "python",
   "name": "python3"
  },
  "language_info": {
   "codemirror_mode": {
    "name": "ipython",
    "version": 3
   },
   "file_extension": ".py",
   "mimetype": "text/x-python",
   "name": "python",
   "nbconvert_exporter": "python",
   "pygments_lexer": "ipython3",
   "version": "3.12.3"
  }
 },
 "nbformat": 4,
 "nbformat_minor": 5
}
